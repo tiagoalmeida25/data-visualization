{
 "cells": [
  {
   "cell_type": "code",
   "execution_count": 1,
   "metadata": {},
   "outputs": [],
   "source": [
    "import pandas as pd\n",
    "import numpy as np\n",
    "from matplotlib import pyplot as plt\n",
    "from collections import Counter\n",
    "import datetime"
   ]
  },
  {
   "cell_type": "code",
   "execution_count": 30,
   "metadata": {},
   "outputs": [],
   "source": [
    "df = pd.read_json('my_spotify_data/endsong_0.json')\n",
    "df1 = pd.read_json('my_spotify_data/endsong_1.json')\n",
    "df2 = pd.read_json('my_spotify_data/endsong_2.json')\n",
    "df3 = pd.read_json('my_spotify_data/endsong_3.json')\n",
    "\n",
    "frames = [df, df1, df2, df3]\n",
    "\n",
    "df = pd.concat(frames)\n",
    "\n",
    "df.drop(['username','ip_addr_decrypted', 'platform', 'conn_country', 'user_agent_decrypted', 'spotify_track_uri', 'spotify_episode_uri', 'shuffle','skipped','offline_timestamp','offline','incognito_mode', 'reason_start'], axis=1, inplace=True)\n",
    "df.columns = ['Date', 'Duration','Track', 'Artist','Album', 'Episode','Podcast', 'Reason to End']\n",
    "\n",
    "df['Time'] = df['Date'].str.split('T', expand=True)[1].str[:-1]\n",
    "df['Date'] = df['Date'].str.split('T', expand=True)[0]\n",
    "df[['Hours','Minutes','Seconds']] = df['Time'].str.split(':',n=2, expand=True)\n",
    "\n",
    "df['Date'] = pd.to_datetime(df['Date'], format='%Y-%m-%d')\n",
    "\n",
    "df['Duration'] = pd.to_numeric(df['Duration']) / 1000\n",
    "\n",
    "df.sort_values(by='Date',inplace=True)\n",
    "df.reset_index(drop=True, inplace=True)\n",
    "\n",
    "df_podcasts = df[df['Episode'].notna()].copy()\n",
    "df_podcasts.drop(['Track','Artist','Album'], axis=1, inplace=True)\n",
    "df_podcasts.reset_index(drop=True, inplace=True)\n",
    "\n",
    "df_tracks = df[df['Track'].notna()].copy()\n",
    "df_tracks.drop(['Episode','Podcast'], axis=1, inplace=True)\n",
    "df_tracks.reset_index(drop=True, inplace=True)\n"
   ]
  },
  {
   "cell_type": "code",
   "execution_count": null,
   "metadata": {},
   "outputs": [],
   "source": []
  }
 ],
 "metadata": {
  "kernelspec": {
   "display_name": "Python 3.9.13 64-bit (microsoft store)",
   "language": "python",
   "name": "python3"
  },
  "language_info": {
   "codemirror_mode": {
    "name": "ipython",
    "version": 3
   },
   "file_extension": ".py",
   "mimetype": "text/x-python",
   "name": "python",
   "nbconvert_exporter": "python",
   "pygments_lexer": "ipython3",
   "version": "3.9.13"
  },
  "orig_nbformat": 4,
  "vscode": {
   "interpreter": {
    "hash": "d86b8aa2fa1cd854ea2b7cf79d5d7c9edb29ab63787a9639319c72fd28a21d9a"
   }
  }
 },
 "nbformat": 4,
 "nbformat_minor": 2
}
