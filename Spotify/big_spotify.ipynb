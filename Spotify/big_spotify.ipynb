{
 "cells": [
  {
   "cell_type": "code",
   "execution_count": 35,
   "metadata": {},
   "outputs": [],
   "source": [
    "import pandas as pd\n",
    "import numpy as np\n",
    "from matplotlib import pyplot as plt\n",
    "from collections import Counter\n",
    "import datetime\n",
    "\n",
    "import plotly.graph_objs as go\n",
    "import plotly.offline as pyo"
   ]
  },
  {
   "cell_type": "code",
   "execution_count": 36,
   "metadata": {},
   "outputs": [],
   "source": [
    "df = pd.read_json('my_spotify_data/endsong_0.json')\n",
    "df1 = pd.read_json('my_spotify_data/endsong_1.json')\n",
    "df2 = pd.read_json('my_spotify_data/endsong_2.json')\n",
    "df3 = pd.read_json('my_spotify_data/endsong_3.json')\n",
    "\n",
    "frames = [df, df1, df2, df3]\n",
    "\n",
    "df = pd.concat(frames)\n",
    "\n",
    "df.drop(['username','ip_addr_decrypted', 'platform', 'conn_country', 'user_agent_decrypted', 'spotify_track_uri', 'spotify_episode_uri', 'shuffle','skipped','offline_timestamp','offline','incognito_mode', 'reason_start'], axis=1, inplace=True)\n",
    "df.columns = ['Date', 'Duration','Track', 'Artist','Album', 'Episode','Podcast', 'Reason to End']\n",
    "\n",
    "df['Time'] = df['Date'].str.split('T', expand=True)[1].str[:-1]\n",
    "df['Date'] = df['Date'].str.split('T', expand=True)[0]\n",
    "df[['Hours','Minutes','Seconds']] = df['Time'].str.split(':',n=2, expand=True)\n",
    "df['Hours'] = df['Hours'].astype(int)\n",
    "\n",
    "df['Date'] = pd.to_datetime(df['Date'], format='%Y-%m-%d')\n",
    "\n",
    "df['Duration'] = pd.to_numeric(df['Duration'])/(1*1000)\n",
    "\n",
    "df.sort_values(by='Date',inplace=True)\n",
    "df.reset_index(drop=True, inplace=True)\n",
    "\n",
    "df_podcasts = df[df['Episode'].notna()].copy()\n",
    "df_podcasts.drop(['Track','Artist','Album'], axis=1, inplace=True)\n",
    "df_podcasts.reset_index(drop=True, inplace=True)\n",
    "\n",
    "df_tracks = df[df['Track'].notna()].copy()\n",
    "df_tracks.drop(['Episode','Podcast'], axis=1, inplace=True)\n",
    "df_tracks.reset_index(drop=True, inplace=True)"
   ]
  },
  {
   "cell_type": "code",
   "execution_count": 37,
   "metadata": {},
   "outputs": [
    {
     "data": {
      "text/plain": [
       "'top100_artists.html'"
      ]
     },
     "execution_count": 37,
     "metadata": {},
     "output_type": "execute_result"
    }
   ],
   "source": [
    "artists_freq =  pd.DataFrame(Counter(df_tracks['Artist']).most_common(100))\n",
    "\n",
    "data = [go.Bar(y=artists_freq[1],\n",
    "               x=artists_freq[0],\n",
    "               orientation='v')]\n",
    "\n",
    "layout = go.Layout(dict(\n",
    "    title='Top 100 - Artists',\n",
    "    barmode='stack',\n",
    "    font=dict(size=10)\n",
    "))\n",
    "\n",
    "fig = go.Figure(data=data, layout=layout)\n",
    "pyo.plot(fig, filename='top100_artists.html')"
   ]
  },
  {
   "cell_type": "code",
   "execution_count": 38,
   "metadata": {},
   "outputs": [
    {
     "data": {
      "text/plain": [
       "'top100_tracks.html'"
      ]
     },
     "execution_count": 38,
     "metadata": {},
     "output_type": "execute_result"
    }
   ],
   "source": [
    "tracks_freq =  pd.DataFrame(Counter(df_tracks['Track']).most_common(100))\n",
    "\n",
    "data = [go.Bar(y=tracks_freq[1],\n",
    "               x=tracks_freq[0],\n",
    "               orientation='v')]\n",
    "\n",
    "layout = go.Layout(dict(\n",
    "    title='Top 100 - Tracks',\n",
    "    barmode='stack',\n",
    "    font=dict(size=10)\n",
    "))\n",
    "\n",
    "fig = go.Figure(data=data, layout=layout)\n",
    "pyo.plot(fig, filename='top100_tracks.html')"
   ]
  },
  {
   "cell_type": "code",
   "execution_count": 56,
   "metadata": {},
   "outputs": [
    {
     "data": {
      "text/plain": [
       "'heatmap_duration_week_time.html'"
      ]
     },
     "execution_count": 56,
     "metadata": {},
     "output_type": "execute_result"
    }
   ],
   "source": [
    "data = [go.Heatmap(x=df_tracks['Date'].dt.day_of_week,\n",
    "                   y=df_tracks['Hours'],\n",
    "                   z=df_tracks['Duration'],\n",
    "                   colorscale='YlOrRd')]\n",
    "\n",
    "\n",
    "layout = go.Layout(dict(\n",
    "    title='Time heard during the days of a week',\n",
    "    xaxis=dict(title='Day of the week',\n",
    "               tickmode='array',\n",
    "               tickvals=[0,1,2,3,4,5,6],\n",
    "               ticktext=['Monday','Tuesday', 'Wednesday','Thursday','Friday','Saturday','Sunday']),\n",
    "    yaxis=dict(title='Time of the day',\n",
    "               autorange='reversed')\n",
    "))\n",
    "\n",
    "fig = go.Figure(data=data, layout=layout)\n",
    "pyo.plot(fig, filename='heatmap_duration_week_time.html')"
   ]
  },
  {
   "cell_type": "code",
   "execution_count": 59,
   "metadata": {},
   "outputs": [
    {
     "data": {
      "text/plain": [
       "'heatmap_duration_year_time.html'"
      ]
     },
     "execution_count": 59,
     "metadata": {},
     "output_type": "execute_result"
    }
   ],
   "source": [
    "data = [go.Heatmap(x=df_tracks['Date'].dt.day_of_year,\n",
    "                   y=df_tracks['Hours'],\n",
    "                   z=df_tracks['Duration'],\n",
    "                   colorscale='YlOrRd')]\n",
    "\n",
    "\n",
    "layout = go.Layout(dict(\n",
    "    title='Time heard during the days of a year',\n",
    "    xaxis=dict(title='Day of the year',\n",
    "               tickmode='array',\n",
    "               tickvals=[31,59,90,120,151,181,212,243,273,304,334,365],\n",
    "               ticktext=['Jan','Fev','Mar','Abr','Mai','Jun','Jul','Ago','Set','Out','Nov','Dez']),\n",
    "    yaxis=dict(title='Time of the day',\n",
    "               autorange='reversed')\n",
    "))\n",
    "\n",
    "fig = go.Figure(data=data, layout=layout)\n",
    "pyo.plot(fig, filename='heatmap_duration_year_time.html')"
   ]
  },
  {
   "cell_type": "code",
   "execution_count": 40,
   "metadata": {},
   "outputs": [],
   "source": [
    "# artists_freq =  np.asarray(Counter(df_tracks['Artist']).most_common(100))\n",
    "\n",
    "# artists_freq = artists_freq[::-1]\n",
    "\n",
    "# fig, ax = plt.subplots(figsize =(16, 20))\n",
    "# for artist, freq in zip(artists_freq[:,0], artists_freq[:,1]):\n",
    "#     ax.barh(artist,int(freq))\n",
    "# plt.show()"
   ]
  }
 ],
 "metadata": {
  "kernelspec": {
   "display_name": "Python 3.9.13 64-bit (microsoft store)",
   "language": "python",
   "name": "python3"
  },
  "language_info": {
   "codemirror_mode": {
    "name": "ipython",
    "version": 3
   },
   "file_extension": ".py",
   "mimetype": "text/x-python",
   "name": "python",
   "nbconvert_exporter": "python",
   "pygments_lexer": "ipython3",
   "version": "3.9.13"
  },
  "orig_nbformat": 4,
  "vscode": {
   "interpreter": {
    "hash": "d86b8aa2fa1cd854ea2b7cf79d5d7c9edb29ab63787a9639319c72fd28a21d9a"
   }
  }
 },
 "nbformat": 4,
 "nbformat_minor": 2
}
