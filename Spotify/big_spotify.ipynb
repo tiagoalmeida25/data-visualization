{
 "cells": [
  {
   "cell_type": "code",
   "execution_count": 257,
   "metadata": {},
   "outputs": [],
   "source": [
    "import pandas as pd\n",
    "import numpy as np\n",
    "from matplotlib import pyplot as plt\n",
    "from collections import Counter\n",
    "import datetime\n",
    "\n",
    "import plotly.graph_objs as go\n",
    "import plotly.offline as pyo\n",
    "from plotly import subplots "
   ]
  },
  {
   "cell_type": "code",
   "execution_count": 180,
   "metadata": {},
   "outputs": [],
   "source": [
    "df = pd.read_json('my_spotify_data/endsong_0.json')\n",
    "df1 = pd.read_json('my_spotify_data/endsong_1.json')\n",
    "df2 = pd.read_json('my_spotify_data/endsong_2.json')\n",
    "df3 = pd.read_json('my_spotify_data/endsong_3.json')\n",
    "\n",
    "frames = [df, df1, df2, df3]\n",
    "\n",
    "df = pd.concat(frames)\n",
    "\n",
    "df.drop(['username','ip_addr_decrypted', 'platform', 'conn_country', 'user_agent_decrypted', 'spotify_track_uri', 'spotify_episode_uri', 'shuffle','skipped','offline_timestamp','offline','incognito_mode', 'reason_start'], axis=1, inplace=True)\n",
    "df.columns = ['Date', 'Duration','Track', 'Artist','Album', 'Episode','Podcast', 'Reason to End']\n",
    "\n",
    "df['Time'] = df['Date'].str.split('T', expand=True)[1].str[:-1]\n",
    "df['Date'] = df['Date'].str.split('T', expand=True)[0]\n",
    "df[['Hours','Minutes','Seconds']] = df['Time'].str.split(':',n=2, expand=True)\n",
    "df['Hours'] = df['Hours'].astype(int)\n",
    "\n",
    "df['Date'] = pd.to_datetime(df['Date'], format='%Y-%m-%d')\n",
    "\n",
    "df['Duration'] = pd.to_numeric(df['Duration'])/(60*1000)\n",
    "\n",
    "df.sort_values(by='Date',inplace=True)\n",
    "df.reset_index(drop=True, inplace=True)\n",
    "\n",
    "df_podcasts = df[df['Episode'].notna()].copy()\n",
    "df_podcasts.drop(['Track','Artist','Album'], axis=1, inplace=True)\n",
    "df_podcasts.reset_index(drop=True, inplace=True)\n",
    "\n",
    "df_tracks = df[df['Track'].notna()].copy()\n",
    "df_tracks.drop(['Episode','Podcast'], axis=1, inplace=True)\n",
    "df_tracks.reset_index(drop=True, inplace=True)"
   ]
  },
  {
   "cell_type": "code",
   "execution_count": 181,
   "metadata": {},
   "outputs": [
    {
     "data": {
      "text/plain": [
       "'top100_artists.html'"
      ]
     },
     "execution_count": 181,
     "metadata": {},
     "output_type": "execute_result"
    }
   ],
   "source": [
    "artists_freq =  pd.DataFrame(Counter(df_tracks['Artist']).most_common(100))\n",
    "\n",
    "data = [go.Bar(y=artists_freq[1],\n",
    "               x=artists_freq[0],\n",
    "               orientation='v')]\n",
    "\n",
    "layout = go.Layout(dict(\n",
    "    title='Top 100 - Artists',\n",
    "    barmode='stack',\n",
    "    font=dict(size=10)\n",
    "))\n",
    "\n",
    "fig = go.Figure(data=data, layout=layout)\n",
    "pyo.plot(fig, filename='top100_artists.html')"
   ]
  },
  {
   "cell_type": "code",
   "execution_count": 182,
   "metadata": {},
   "outputs": [
    {
     "data": {
      "text/plain": [
       "'top100_tracks.html'"
      ]
     },
     "execution_count": 182,
     "metadata": {},
     "output_type": "execute_result"
    }
   ],
   "source": [
    "tracks_freq =  pd.DataFrame(Counter(df_tracks['Track']).most_common(100))\n",
    "\n",
    "data = [go.Bar(y=tracks_freq[1],\n",
    "               x=tracks_freq[0],\n",
    "               orientation='v')]\n",
    "\n",
    "layout = go.Layout(dict(\n",
    "    title='Top 100 - Tracks',\n",
    "    barmode='stack',\n",
    "    font=dict(size=10)\n",
    "))\n",
    "\n",
    "fig = go.Figure(data=data, layout=layout)\n",
    "pyo.plot(fig, filename='top100_tracks.html')"
   ]
  },
  {
   "cell_type": "code",
   "execution_count": 183,
   "metadata": {},
   "outputs": [
    {
     "data": {
      "text/plain": [
       "'heatmap_duration_week_time.html'"
      ]
     },
     "execution_count": 183,
     "metadata": {},
     "output_type": "execute_result"
    }
   ],
   "source": [
    "data = [go.Heatmap(x=df_tracks['Date'].dt.day_of_week,\n",
    "                   y=df_tracks['Hours'],\n",
    "                   z=df_tracks['Duration'],\n",
    "                   colorscale='YlOrRd')]\n",
    "\n",
    "\n",
    "layout = go.Layout(dict(\n",
    "    title='Time heard during the days of a week',\n",
    "    xaxis=dict(title='Day of the week',\n",
    "               tickmode='array',\n",
    "               tickvals=[0,1,2,3,4,5,6],\n",
    "               ticktext=['Monday','Tuesday', 'Wednesday','Thursday','Friday','Saturday','Sunday']),\n",
    "    yaxis=dict(title='Time of the day',\n",
    "               autorange='reversed')\n",
    "))\n",
    "\n",
    "fig = go.Figure(data=data, layout=layout)\n",
    "pyo.plot(fig, filename='heatmap_duration_week_time.html')"
   ]
  },
  {
   "cell_type": "code",
   "execution_count": 184,
   "metadata": {},
   "outputs": [
    {
     "data": {
      "text/plain": [
       "'heatmap_duration_year_time.html'"
      ]
     },
     "execution_count": 184,
     "metadata": {},
     "output_type": "execute_result"
    }
   ],
   "source": [
    "data = [go.Heatmap(x=df_tracks['Date'].dt.day_of_year,\n",
    "                   y=df_tracks['Hours'],\n",
    "                   z=df_tracks['Duration'],\n",
    "                   colorscale='YlOrRd')]\n",
    "\n",
    "\n",
    "layout = go.Layout(dict(\n",
    "    title='Time heard during the days of a year',\n",
    "    xaxis=dict(title='Day of the year',\n",
    "               tickmode='array',\n",
    "               tickvals=[31,59,90,120,151,181,212,243,273,304,334,365],\n",
    "               ticktext=['Jan','Fev','Mar','Abr','Mai','Jun','Jul','Ago','Set','Out','Nov','Dez']),\n",
    "    yaxis=dict(title='Time of the day',\n",
    "               autorange='reversed')\n",
    "))\n",
    "\n",
    "fig = go.Figure(data=data, layout=layout)\n",
    "pyo.plot(fig, filename='heatmap_duration_year_time.html')"
   ]
  },
  {
   "cell_type": "code",
   "execution_count": 185,
   "metadata": {},
   "outputs": [
    {
     "data": {
      "text/plain": [
       "'bar_duration_year.html'"
      ]
     },
     "execution_count": 185,
     "metadata": {},
     "output_type": "execute_result"
    }
   ],
   "source": [
    "data = [go.Bar(x=df_tracks['Date'].dt.day_of_year,\n",
    "                   y=df_tracks['Duration'])]\n",
    "\n",
    "\n",
    "layout = go.Layout(dict(\n",
    "    title='Time heard by day of the year',\n",
    "    xaxis=dict(title='Day of the year',\n",
    "               tickmode='array',\n",
    "               tickvals=[31-15,59-15,90-15,120-15,151-15,181-15,212-15,243-15,273-15,304-15,334-15,365-15],\n",
    "               ticktext=['Jan','Fev','Mar','Abr','Mai','Jun','Jul','Ago','Set','Out','Nov','Dez']),\n",
    "    yaxis=dict(title='Duration')\n",
    "))\n",
    "\n",
    "fig = go.Figure(data=data, layout=layout)\n",
    "pyo.plot(fig, filename='bar_duration_year.html')"
   ]
  },
  {
   "cell_type": "code",
   "execution_count": 186,
   "metadata": {},
   "outputs": [
    {
     "data": {
      "text/plain": [
       "'bar_duration_per_year.html'"
      ]
     },
     "execution_count": 186,
     "metadata": {},
     "output_type": "execute_result"
    }
   ],
   "source": [
    "df_2014 = df_tracks[(df_tracks['Date'] >= '2014-01-01') & (df_tracks['Date'] <= '2014-12-31')]\n",
    "df_2015 = df_tracks[(df_tracks['Date'] >= '2015-01-01') & (df_tracks['Date'] <= '2015-12-31')]\n",
    "df_2016 = df_tracks[(df_tracks['Date'] >= '2016-01-01') & (df_tracks['Date'] <= '2016-12-31')]\n",
    "df_2017 = df_tracks[(df_tracks['Date'] >= '2017-01-01') & (df_tracks['Date'] <= '2017-12-31')]\n",
    "df_2018 = df_tracks[(df_tracks['Date'] >= '2018-01-01') & (df_tracks['Date'] <= '2018-12-31')]\n",
    "df_2019 = df_tracks[(df_tracks['Date'] >= '2019-01-01') & (df_tracks['Date'] <= '2019-12-31')]\n",
    "df_2020 = df_tracks[(df_tracks['Date'] >= '2020-01-01') & (df_tracks['Date'] <= '2020-12-31')]\n",
    "df_2021 = df_tracks[(df_tracks['Date'] >= '2021-01-01') & (df_tracks['Date'] <= '2021-12-31')]\n",
    "df_2022 = df_tracks[(df_tracks['Date'] >= '2022-01-01') & (df_tracks['Date'] <= '2022-12-31')]\n",
    "\n",
    "data = [go.Bar(x=df_2014['Date'].dt.day_of_year,\n",
    "               y=df_2014['Duration'],\n",
    "               name='2014',\n",
    "               width=1),\n",
    "        go.Bar(x=df_2015['Date'].dt.day_of_year,\n",
    "               y=df_2015['Duration'],\n",
    "               name='2015',\n",
    "               width=1),\n",
    "        go.Bar(x=df_2016['Date'].dt.day_of_year,\n",
    "               y=df_2016['Duration'],\n",
    "               name='2016',\n",
    "               width=1),\n",
    "        go.Bar(x=df_2017['Date'].dt.day_of_year,\n",
    "               y=df_2017['Duration'],\n",
    "               name='2017',\n",
    "               width=1),\n",
    "        go.Bar(x=df_2018['Date'].dt.day_of_year,\n",
    "               y=df_2018['Duration'],\n",
    "               name='2018',\n",
    "               width=1),\n",
    "        go.Bar(x=df_2019['Date'].dt.day_of_year,\n",
    "               y=df_2019['Duration'],\n",
    "               name='2019',\n",
    "               width=1),\n",
    "        go.Bar(x=df_2020['Date'].dt.day_of_year,\n",
    "               y=df_2020['Duration'],\n",
    "               name='2020',\n",
    "               width=1),\n",
    "        go.Bar(x=df_2021['Date'].dt.day_of_year,\n",
    "               y=df_2021['Duration'],\n",
    "               name='2021',\n",
    "               width=1),\n",
    "        go.Bar(x=df_2022['Date'].dt.day_of_year,\n",
    "               y=df_2022['Duration'],\n",
    "               name='2022',\n",
    "               width=1)\n",
    "        ]\n",
    "\n",
    "\n",
    "layout = go.Layout(dict(\n",
    "    title='Time heard by day of the year',\n",
    "    xaxis=dict(title='Day of the year',\n",
    "               tickmode='array',\n",
    "               tickvals=[31-15,59-15,90-15,120-15,151-15,181-15,212-15,243-15,273-15,304-15,334-15,365-15],\n",
    "               ticktext=['Jan','Fev','Mar','Abr','Mai','Jun','Jul','Ago','Set','Out','Nov','Dez']),\n",
    "    yaxis=dict(title='Duration'),\n",
    "    barmode='stack',\n",
    "#     barnorm='percent'\n",
    "))\n",
    "\n",
    "fig = go.Figure(data=data, layout=layout)\n",
    "pyo.plot(fig, filename='bar_duration_per_year.html')"
   ]
  },
  {
   "cell_type": "code",
   "execution_count": 187,
   "metadata": {},
   "outputs": [
    {
     "data": {
      "text/plain": [
       "'bar_grouped_duration_year.html'"
      ]
     },
     "execution_count": 187,
     "metadata": {},
     "output_type": "execute_result"
    }
   ],
   "source": [
    "df_2014 = df_tracks[(df_tracks['Date'] >= '2014-01-01') & (df_tracks['Date'] <= '2014-12-31')]\n",
    "df_2015 = df_tracks[(df_tracks['Date'] >= '2015-01-01') & (df_tracks['Date'] <= '2015-12-31')]\n",
    "df_2016 = df_tracks[(df_tracks['Date'] >= '2016-01-01') & (df_tracks['Date'] <= '2016-12-31')]\n",
    "df_2017 = df_tracks[(df_tracks['Date'] >= '2017-01-01') & (df_tracks['Date'] <= '2017-12-31')]\n",
    "df_2018 = df_tracks[(df_tracks['Date'] >= '2018-01-01') & (df_tracks['Date'] <= '2018-12-31')]\n",
    "df_2019 = df_tracks[(df_tracks['Date'] >= '2019-01-01') & (df_tracks['Date'] <= '2019-12-31')]\n",
    "df_2020 = df_tracks[(df_tracks['Date'] >= '2020-01-01') & (df_tracks['Date'] <= '2020-12-31')]\n",
    "df_2021 = df_tracks[(df_tracks['Date'] >= '2021-01-01') & (df_tracks['Date'] <= '2021-12-31')]\n",
    "df_2022 = df_tracks[(df_tracks['Date'] >= '2022-01-01') & (df_tracks['Date'] <= '2022-12-31')]\n",
    "\n",
    "duration_2014 = df_2014.groupby(df_tracks.Date.dt.day_of_year)['Duration'].sum()\n",
    "duration_2015 = df_2015.groupby(df_tracks.Date.dt.day_of_year)['Duration'].sum()\n",
    "duration_2016 = df_2016.groupby(df_tracks.Date.dt.day_of_year)['Duration'].sum()\n",
    "duration_2017 = df_2017.groupby(df_tracks.Date.dt.day_of_year)['Duration'].sum()\n",
    "duration_2018 = df_2018.groupby(df_tracks.Date.dt.day_of_year)['Duration'].sum()\n",
    "duration_2019 = df_2019.groupby(df_tracks.Date.dt.day_of_year)['Duration'].sum()\n",
    "duration_2020 = df_2020.groupby(df_tracks.Date.dt.day_of_year)['Duration'].sum()\n",
    "duration_2021 = df_2021.groupby(df_tracks.Date.dt.day_of_year)['Duration'].sum()\n",
    "duration_2022 = df_2022.groupby(df_tracks.Date.dt.day_of_year)['Duration'].sum()\n",
    "time = np.arange(1,367,1)\n",
    "\n",
    "data = [go.Bar(x=time,\n",
    "               y=duration_2014,\n",
    "               name='2014'),\n",
    "        go.Bar(x=time,\n",
    "               y=duration_2015,\n",
    "               name='2015'),\n",
    "        go.Bar(x=time,\n",
    "               y=duration_2016,\n",
    "               name='2016'),\n",
    "        go.Bar(x=time,\n",
    "               y=duration_2017,\n",
    "               name='2017'),\n",
    "        go.Bar(x=time,\n",
    "               y=duration_2018,\n",
    "               name='2018'),\n",
    "        go.Bar(x=time,\n",
    "               y=duration_2019,\n",
    "               name='2019'),\n",
    "        go.Bar(x=time,\n",
    "               y=duration_2020,\n",
    "               name='2020'),\n",
    "        go.Bar(x=time,\n",
    "               y=duration_2021,\n",
    "               name='2021'),\n",
    "        go.Bar(x=time,\n",
    "               y=duration_2022,\n",
    "               name='2022'),\n",
    "        ]\n",
    "\n",
    "\n",
    "layout = go.Layout(dict(\n",
    "    title='Time heard by day of the year',\n",
    "    xaxis=dict(title='Day of the year',\n",
    "               tickmode='array',\n",
    "               tickvals=[31-15,59-15,90-15,120-15,151-15,181-15,212-15,243-15,273-15,304-15,334-15,365-15],\n",
    "               ticktext=['Jan','Fev','Mar','Abr','Mai','Jun','Jul','Ago','Set','Out','Nov','Dez']),\n",
    "    yaxis=dict(title='Duration'),\n",
    "    barmode='stack'\n",
    "))\n",
    "\n",
    "fig = go.Figure(data=data, layout=layout)\n",
    "pyo.plot(fig, filename='bar_grouped_duration_year.html')"
   ]
  },
  {
   "cell_type": "code",
   "execution_count": 188,
   "metadata": {},
   "outputs": [
    {
     "data": {
      "text/plain": [
       "'bar_grouped_duration_week.html'"
      ]
     },
     "execution_count": 188,
     "metadata": {},
     "output_type": "execute_result"
    }
   ],
   "source": [
    "df_2014 = df_tracks[(df_tracks['Date'] >= '2014-01-01') & (df_tracks['Date'] <= '2014-12-31')]\n",
    "df_2015 = df_tracks[(df_tracks['Date'] >= '2015-01-01') & (df_tracks['Date'] <= '2015-12-31')]\n",
    "df_2016 = df_tracks[(df_tracks['Date'] >= '2016-01-01') & (df_tracks['Date'] <= '2016-12-31')]\n",
    "df_2017 = df_tracks[(df_tracks['Date'] >= '2017-01-01') & (df_tracks['Date'] <= '2017-12-31')]\n",
    "df_2018 = df_tracks[(df_tracks['Date'] >= '2018-01-01') & (df_tracks['Date'] <= '2018-12-31')]\n",
    "df_2019 = df_tracks[(df_tracks['Date'] >= '2019-01-01') & (df_tracks['Date'] <= '2019-12-31')]\n",
    "df_2020 = df_tracks[(df_tracks['Date'] >= '2020-01-01') & (df_tracks['Date'] <= '2020-12-31')]\n",
    "df_2021 = df_tracks[(df_tracks['Date'] >= '2021-01-01') & (df_tracks['Date'] <= '2021-12-31')]\n",
    "df_2022 = df_tracks[(df_tracks['Date'] >= '2022-01-01') & (df_tracks['Date'] <= '2022-12-31')]\n",
    "\n",
    "duration_2014 = df_2014.groupby(df_tracks.Date.dt.day_of_week)['Duration'].sum()\n",
    "duration_2015 = df_2015.groupby(df_tracks.Date.dt.day_of_week)['Duration'].sum()\n",
    "duration_2016 = df_2016.groupby(df_tracks.Date.dt.day_of_week)['Duration'].sum()\n",
    "duration_2017 = df_2017.groupby(df_tracks.Date.dt.day_of_week)['Duration'].sum()\n",
    "duration_2018 = df_2018.groupby(df_tracks.Date.dt.day_of_week)['Duration'].sum()\n",
    "duration_2019 = df_2019.groupby(df_tracks.Date.dt.day_of_week)['Duration'].sum()\n",
    "duration_2020 = df_2020.groupby(df_tracks.Date.dt.day_of_week)['Duration'].sum()\n",
    "duration_2021 = df_2021.groupby(df_tracks.Date.dt.day_of_week)['Duration'].sum()\n",
    "duration_2022 = df_2022.groupby(df_tracks.Date.dt.day_of_week)['Duration'].sum()\n",
    "time = np.arange(1,8,1)\n",
    "\n",
    "data = [go.Bar(x=time,\n",
    "               y=duration_2014,\n",
    "               name='2014'),\n",
    "        go.Bar(x=time,\n",
    "               y=duration_2015,\n",
    "               name='2015'),\n",
    "        go.Bar(x=time,\n",
    "               y=duration_2016,\n",
    "               name='2016'),\n",
    "        go.Bar(x=time,\n",
    "               y=duration_2017,\n",
    "               name='2017'),\n",
    "        go.Bar(x=time,\n",
    "               y=duration_2018,\n",
    "               name='2018'),\n",
    "        go.Bar(x=time,\n",
    "               y=duration_2019,\n",
    "               name='2019'),\n",
    "        go.Bar(x=time,\n",
    "               y=duration_2020,\n",
    "               name='2020'),\n",
    "        go.Bar(x=time,\n",
    "               y=duration_2021,\n",
    "               name='2021'),\n",
    "        go.Bar(x=time,\n",
    "               y=duration_2022,\n",
    "               name='2022'),\n",
    "        ]\n",
    "\n",
    "\n",
    "layout = go.Layout(dict(\n",
    "    title='Time heard by day of the week',\n",
    "    xaxis=dict(title='Day of the week',\n",
    "               tickmode='array',\n",
    "               tickvals=time,\n",
    "               ticktext=['Monday','Tuesday', 'Wednesday','Thursday','Friday','Saturday','Sunday']),\n",
    "    yaxis=dict(title='Duration'),\n",
    "    barmode='stack'\n",
    "))\n",
    "\n",
    "fig = go.Figure(data=data, layout=layout)\n",
    "pyo.plot(fig, filename='bar_grouped_duration_week.html')"
   ]
  },
  {
   "cell_type": "code",
   "execution_count": 189,
   "metadata": {},
   "outputs": [
    {
     "data": {
      "text/plain": [
       "'Imagine Dragons_duration_month.html'"
      ]
     },
     "execution_count": 189,
     "metadata": {},
     "output_type": "execute_result"
    }
   ],
   "source": [
    "artist = 'Imagine Dragons'\n",
    "df_artist = df_tracks[df_tracks['Artist'].str.contains(artist)]\n",
    "\n",
    "df_2014 = df_artist[(df_artist['Date'] >= '2014-01-01') & (df_artist['Date'] <= '2014-12-31')]\n",
    "df_2015 = df_artist[(df_artist['Date'] >= '2015-01-01') & (df_artist['Date'] <= '2015-12-31')]\n",
    "df_2016 = df_artist[(df_artist['Date'] >= '2016-01-01') & (df_artist['Date'] <= '2016-12-31')]\n",
    "df_2017 = df_artist[(df_artist['Date'] >= '2017-01-01') & (df_artist['Date'] <= '2017-12-31')]\n",
    "df_2018 = df_artist[(df_artist['Date'] >= '2018-01-01') & (df_artist['Date'] <= '2018-12-31')]\n",
    "df_2019 = df_artist[(df_artist['Date'] >= '2019-01-01') & (df_artist['Date'] <= '2019-12-31')]\n",
    "df_2020 = df_artist[(df_artist['Date'] >= '2020-01-01') & (df_artist['Date'] <= '2020-12-31')]\n",
    "df_2021 = df_artist[(df_artist['Date'] >= '2021-01-01') & (df_artist['Date'] <= '2021-12-31')]\n",
    "df_2022 = df_artist[(df_artist['Date'] >= '2022-01-01') & (df_artist['Date'] <= '2022-12-31')]\n",
    "\n",
    "duration_2014 = df_2014.groupby(df_2014.Date.dt.month)['Duration'].sum()\n",
    "duration_2015 = df_2015.groupby(df_2015.Date.dt.month)['Duration'].sum()\n",
    "duration_2016 = df_2016.groupby(df_2016.Date.dt.month)['Duration'].sum()\n",
    "duration_2017 = df_2017.groupby(df_2017.Date.dt.month)['Duration'].sum()\n",
    "duration_2018 = df_2018.groupby(df_2018.Date.dt.month)['Duration'].sum()\n",
    "duration_2019 = df_2019.groupby(df_2019.Date.dt.month)['Duration'].sum()\n",
    "duration_2020 = df_2020.groupby(df_2020.Date.dt.month)['Duration'].sum()\n",
    "duration_2021 = df_2021.groupby(df_2021.Date.dt.month)['Duration'].sum()\n",
    "duration_2022 = df_2022.groupby(df_2022.Date.dt.month)['Duration'].sum()\n",
    "time = np.arange(1,13,1)\n",
    "\n",
    "data = [go.Bar(x=time,\n",
    "               y=duration_2014,\n",
    "               name='2014'),\n",
    "        go.Bar(x=time,\n",
    "               y=duration_2015,\n",
    "               name='2015'),\n",
    "        go.Bar(x=time,\n",
    "               y=duration_2016,\n",
    "               name='2016'),\n",
    "        go.Bar(x=time,\n",
    "               y=duration_2017,\n",
    "               name='2017'),\n",
    "        go.Bar(x=time,\n",
    "               y=duration_2018,\n",
    "               name='2018'),\n",
    "        go.Bar(x=time,\n",
    "               y=duration_2019,\n",
    "               name='2019'),\n",
    "        go.Bar(x=time,\n",
    "               y=duration_2020,\n",
    "               name='2020'),\n",
    "        go.Bar(x=time,\n",
    "               y=duration_2021,\n",
    "               name='2021'),\n",
    "        go.Bar(x=time,\n",
    "               y=duration_2022,\n",
    "               name='2022'),\n",
    "        ]\n",
    "\n",
    "\n",
    "layout = go.Layout(dict(\n",
    "    title='Time heard by month of ' + artist,\n",
    "    xaxis=dict(title='Month',\n",
    "               tickmode='array',\n",
    "               tickvals=time,\n",
    "               ticktext=['Jan','Fev','Mar','Abr','Mai','Jun','Jul','Ago','Set','Out','Nov','Dez']),\n",
    "    yaxis=dict(title='Duration'),\n",
    "    barmode='stack'\n",
    "))\n",
    "\n",
    "fig = go.Figure(data=data, layout=layout)\n",
    "pyo.plot(fig, filename= artist+'_duration_month.html')"
   ]
  },
  {
   "cell_type": "code",
   "execution_count": 233,
   "metadata": {},
   "outputs": [
    {
     "data": {
      "text/plain": [
       "'comparison_between_AC_and_Metallica.html'"
      ]
     },
     "execution_count": 233,
     "metadata": {},
     "output_type": "execute_result"
    }
   ],
   "source": [
    "artist1 = 'AC'\n",
    "artist2 = 'Metallica'\n",
    "\n",
    "df_artist1 = df_tracks[df_tracks['Artist'].str.contains(artist1)]\n",
    "df_artist2 = df_tracks[df_tracks['Artist'].str.contains(artist2)]\n",
    "\n",
    "duration1 = df_artist1.groupby(df_artist1.Date.dt.month)['Duration'].sum()\n",
    "duration2 = df_artist2.groupby(df_artist2.Date.dt.month)['Duration'].sum()\n",
    "\n",
    "time = np.arange(1,13,1)\n",
    "\n",
    "data = [go.Bar(x=time,\n",
    "               y=duration1,\n",
    "               name=df_artist1['Artist'].iloc[0]),\n",
    "        go.Bar(x=time,\n",
    "               y=duration2,\n",
    "               name=df_artist2['Artist'].iloc[0])]\n",
    "\n",
    "layout = go.Layout(title='Comparison between ' + artist1 + ' and ' + artist2,\n",
    "                   xaxis=dict(\n",
    "                       title='Months',\n",
    "                       tickvals=time,\n",
    "                       ticktext=['Jan','Fev','Mar','Abr','Mai','Jun','Jul','Ago','Set','Out','Nov','Dez'],),\n",
    "                   yaxis=dict(title='Duration'),\n",
    "                   barmode='group')\n",
    "\n",
    "fig = go.Figure(data, layout)\n",
    "pyo.plot(fig, filename='comparison_between_'+artist1+'_and_'+artist2+'.html')"
   ]
  },
  {
   "cell_type": "code",
   "execution_count": 234,
   "metadata": {},
   "outputs": [
    {
     "data": {
      "text/plain": [
       "'comparison_between_top10.html'"
      ]
     },
     "execution_count": 234,
     "metadata": {},
     "output_type": "execute_result"
    }
   ],
   "source": [
    "TOP = 10\n",
    "\n",
    "artists = np.asarray(Counter(df_tracks['Artist']).most_common(TOP))\n",
    "    \n",
    "data = [go.Bar(x=df_tracks[df_tracks['Artist'].str.contains(artist)].groupby(df_tracks.Date.dt.year)['Duration'].sum().index,\n",
    "               y=df_tracks[df_tracks['Artist'].str.contains(artist)].groupby(df_tracks.Date.dt.year)['Duration'].sum(),\n",
    "               name=artist) for artist in artists[:,0]]\n",
    "\n",
    "layout = go.Layout(title='Comparison between top ' + str(TOP) + ' artists',\n",
    "                   xaxis=dict(\n",
    "                       title='Years'\n",
    "                    ),\n",
    "                   yaxis=dict(title='Duration'),\n",
    "                   barmode='group')\n",
    "\n",
    "fig = go.Figure(data, layout)\n",
    "pyo.plot(fig, filename='comparison_between_top'+str(TOP)+'.html')"
   ]
  },
  {
   "cell_type": "code",
   "execution_count": 226,
   "metadata": {},
   "outputs": [
    {
     "data": {
      "text/plain": [
       "'comparison_between_top10_all_time.html'"
      ]
     },
     "execution_count": 226,
     "metadata": {},
     "output_type": "execute_result"
    }
   ],
   "source": [
    "TOP = 10\n",
    "\n",
    "artists = np.asarray(Counter(df_tracks['Artist']).most_common(TOP))\n",
    "\n",
    "data = [go.Scatter(x=df_tracks[df_tracks['Artist'].str.contains(artist)]['Date'],\n",
    "                   y=df_tracks[df_tracks['Artist'].str.contains(artist)]['Duration'].cumsum(),\n",
    "                   name=artist) for artist in artists[:,0]]\n",
    "\n",
    "layout = go.Layout(title='Comparison between top '+str(TOP)+' artists',\n",
    "                   xaxis=dict(\n",
    "                       title='Time',\n",
    "                    ),\n",
    "                   yaxis=dict(title='Total Duration'),\n",
    "                   barmode='group')\n",
    "\n",
    "fig = go.Figure(data, layout)\n",
    "pyo.plot(fig, filename='comparison_between_top'+str(TOP)+'_all_time.html')"
   ]
  },
  {
   "cell_type": "code",
   "execution_count": 286,
   "metadata": {},
   "outputs": [
    {
     "ename": "ValueError",
     "evalue": "Invalid property specified for object of type plotly.graph_objs.Bar: 'hover'\n\nDid you mean \"base\"?\n\n    Valid properties:\n        alignmentgroup\n            Set several traces linked to the same position axis or\n            matching axes to the same alignmentgroup. This controls\n            whether bars compute their positional range dependently\n            or independently.\n        base\n            Sets where the bar base is drawn (in position axis\n            units). In \"stack\" or \"relative\" barmode, traces that\n            set \"base\" will be excluded and drawn in \"overlay\" mode\n            instead.\n        basesrc\n            Sets the source reference on Chart Studio Cloud for\n            `base`.\n        cliponaxis\n            Determines whether the text nodes are clipped about the\n            subplot axes. To show the text nodes above axis lines\n            and tick labels, make sure to set `xaxis.layer` and\n            `yaxis.layer` to *below traces*.\n        constraintext\n            Constrain the size of text inside or outside a bar to\n            be no larger than the bar itself.\n        customdata\n            Assigns extra data each datum. This may be useful when\n            listening to hover, click and selection events. Note\n            that, \"scatter\" traces also appends customdata items in\n            the markers DOM elements\n        customdatasrc\n            Sets the source reference on Chart Studio Cloud for\n            `customdata`.\n        dx\n            Sets the x coordinate step. See `x0` for more info.\n        dy\n            Sets the y coordinate step. See `y0` for more info.\n        error_x\n            :class:`plotly.graph_objects.bar.ErrorX` instance or\n            dict with compatible properties\n        error_y\n            :class:`plotly.graph_objects.bar.ErrorY` instance or\n            dict with compatible properties\n        hoverinfo\n            Determines which trace information appear on hover. If\n            `none` or `skip` are set, no information is displayed\n            upon hovering. But, if `none` is set, click and hover\n            events are still fired.\n        hoverinfosrc\n            Sets the source reference on Chart Studio Cloud for\n            `hoverinfo`.\n        hoverlabel\n            :class:`plotly.graph_objects.bar.Hoverlabel` instance\n            or dict with compatible properties\n        hovertemplate\n            Template string used for rendering the information that\n            appear on hover box. Note that this will override\n            `hoverinfo`. Variables are inserted using %{variable},\n            for example \"y: %{y}\" as well as %{xother}, {%_xother},\n            {%_xother_}, {%xother_}. When showing info for several\n            points, \"xother\" will be added to those with different\n            x positions from the first point. An underscore before\n            or after \"(x|y)other\" will add a space on that side,\n            only when this field is shown. Numbers are formatted\n            using d3-format's syntax %{variable:d3-format}, for\n            example \"Price: %{y:$.2f}\".\n            https://github.com/d3/d3-format/tree/v1.4.5#d3-format\n            for details on the formatting syntax. Dates are\n            formatted using d3-time-format's syntax\n            %{variable|d3-time-format}, for example \"Day:\n            %{2019-01-01|%A}\". https://github.com/d3/d3-time-\n            format/tree/v2.2.3#locale_format for details on the\n            date formatting syntax. The variables available in\n            `hovertemplate` are the ones emitted as event data\n            described at this link\n            https://plotly.com/javascript/plotlyjs-events/#event-\n            data. Additionally, every attributes that can be\n            specified per-point (the ones that are `arrayOk: true`)\n            are available. variables `value` and `label`. Anything\n            contained in tag `<extra>` is displayed in the\n            secondary box, for example\n            \"<extra>{fullData.name}</extra>\". To hide the secondary\n            box completely, use an empty tag `<extra></extra>`.\n        hovertemplatesrc\n            Sets the source reference on Chart Studio Cloud for\n            `hovertemplate`.\n        hovertext\n            Sets hover text elements associated with each (x,y)\n            pair. If a single string, the same string appears over\n            all the data points. If an array of string, the items\n            are mapped in order to the this trace's (x,y)\n            coordinates. To be seen, trace `hoverinfo` must contain\n            a \"text\" flag.\n        hovertextsrc\n            Sets the source reference on Chart Studio Cloud for\n            `hovertext`.\n        ids\n            Assigns id labels to each datum. These ids for object\n            constancy of data points during animation. Should be an\n            array of strings, not numbers or any other type.\n        idssrc\n            Sets the source reference on Chart Studio Cloud for\n            `ids`.\n        insidetextanchor\n            Determines if texts are kept at center or start/end\n            points in `textposition` \"inside\" mode.\n        insidetextfont\n            Sets the font used for `text` lying inside the bar.\n        legendgroup\n            Sets the legend group for this trace. Traces part of\n            the same legend group hide/show at the same time when\n            toggling legend items.\n        legendgrouptitle\n            :class:`plotly.graph_objects.bar.Legendgrouptitle`\n            instance or dict with compatible properties\n        legendrank\n            Sets the legend rank for this trace. Items and groups\n            with smaller ranks are presented on top/left side while\n            with `*reversed* `legend.traceorder` they are on\n            bottom/right side. The default legendrank is 1000, so\n            that you can use ranks less than 1000 to place certain\n            items before all unranked items, and ranks greater than\n            1000 to go after all unranked items.\n        legendwidth\n            Sets the width (in px or fraction) of the legend for\n            this trace.\n        marker\n            :class:`plotly.graph_objects.bar.Marker` instance or\n            dict with compatible properties\n        meta\n            Assigns extra meta information associated with this\n            trace that can be used in various text attributes.\n            Attributes such as trace `name`, graph, axis and\n            colorbar `title.text`, annotation `text`\n            `rangeselector`, `updatemenues` and `sliders` `label`\n            text all support `meta`. To access the trace `meta`\n            values in an attribute in the same trace, simply use\n            `%{meta[i]}` where `i` is the index or key of the\n            `meta` item in question. To access trace `meta` in\n            layout attributes, use `%{data[n[.meta[i]}` where `i`\n            is the index or key of the `meta` and `n` is the trace\n            index.\n        metasrc\n            Sets the source reference on Chart Studio Cloud for\n            `meta`.\n        name\n            Sets the trace name. The trace name appear as the\n            legend item and on hover.\n        offset\n            Shifts the position where the bar is drawn (in position\n            axis units). In \"group\" barmode, traces that set\n            \"offset\" will be excluded and drawn in \"overlay\" mode\n            instead.\n        offsetgroup\n            Set several traces linked to the same position axis or\n            matching axes to the same offsetgroup where bars of the\n            same position coordinate will line up.\n        offsetsrc\n            Sets the source reference on Chart Studio Cloud for\n            `offset`.\n        opacity\n            Sets the opacity of the trace.\n        orientation\n            Sets the orientation of the bars. With \"v\" (\"h\"), the\n            value of the each bar spans along the vertical\n            (horizontal).\n        outsidetextfont\n            Sets the font used for `text` lying outside the bar.\n        selected\n            :class:`plotly.graph_objects.bar.Selected` instance or\n            dict with compatible properties\n        selectedpoints\n            Array containing integer indices of selected points.\n            Has an effect only for traces that support selections.\n            Note that an empty array means an empty selection where\n            the `unselected` are turned on for all points, whereas,\n            any other non-array values means no selection all where\n            the `selected` and `unselected` styles have no effect.\n        showlegend\n            Determines whether or not an item corresponding to this\n            trace is shown in the legend.\n        stream\n            :class:`plotly.graph_objects.bar.Stream` instance or\n            dict with compatible properties\n        text\n            Sets text elements associated with each (x,y) pair. If\n            a single string, the same string appears over all the\n            data points. If an array of string, the items are\n            mapped in order to the this trace's (x,y) coordinates.\n            If trace `hoverinfo` contains a \"text\" flag and\n            \"hovertext\" is not set, these elements will be seen in\n            the hover labels.\n        textangle\n            Sets the angle of the tick labels with respect to the\n            bar. For example, a `tickangle` of -90 draws the tick\n            labels vertically. With \"auto\" the texts may\n            automatically be rotated to fit with the maximum size\n            in bars.\n        textfont\n            Sets the font used for `text`.\n        textposition\n            Specifies the location of the `text`. \"inside\"\n            positions `text` inside, next to the bar end (rotated\n            and scaled if needed). \"outside\" positions `text`\n            outside, next to the bar end (scaled if needed), unless\n            there is another bar stacked on this one, then the text\n            gets pushed inside. \"auto\" tries to position `text`\n            inside the bar, but if the bar is too small and no bar\n            is stacked on this one the text is moved outside. If\n            \"none\", no text appears.\n        textpositionsrc\n            Sets the source reference on Chart Studio Cloud for\n            `textposition`.\n        textsrc\n            Sets the source reference on Chart Studio Cloud for\n            `text`.\n        texttemplate\n            Template string used for rendering the information text\n            that appear on points. Note that this will override\n            `textinfo`. Variables are inserted using %{variable},\n            for example \"y: %{y}\". Numbers are formatted using\n            d3-format's syntax %{variable:d3-format}, for example\n            \"Price: %{y:$.2f}\".\n            https://github.com/d3/d3-format/tree/v1.4.5#d3-format\n            for details on the formatting syntax. Dates are\n            formatted using d3-time-format's syntax\n            %{variable|d3-time-format}, for example \"Day:\n            %{2019-01-01|%A}\". https://github.com/d3/d3-time-\n            format/tree/v2.2.3#locale_format for details on the\n            date formatting syntax. Every attributes that can be\n            specified per-point (the ones that are `arrayOk: true`)\n            are available. variables `value` and `label`.\n        texttemplatesrc\n            Sets the source reference on Chart Studio Cloud for\n            `texttemplate`.\n        uid\n            Assign an id to this trace, Use this to provide object\n            constancy between traces during animations and\n            transitions.\n        uirevision\n            Controls persistence of some user-driven changes to the\n            trace: `constraintrange` in `parcoords` traces, as well\n            as some `editable: true` modifications such as `name`\n            and `colorbar.title`. Defaults to `layout.uirevision`.\n            Note that other user-driven trace attribute changes are\n            controlled by `layout` attributes: `trace.visible` is\n            controlled by `layout.legend.uirevision`,\n            `selectedpoints` is controlled by\n            `layout.selectionrevision`, and `colorbar.(x|y)`\n            (accessible with `config: {editable: true}`) is\n            controlled by `layout.editrevision`. Trace changes are\n            tracked by `uid`, which only falls back on trace index\n            if no `uid` is provided. So if your app can add/remove\n            traces before the end of the `data` array, such that\n            the same trace has a different index, you can still\n            preserve user-driven changes if you give each trace a\n            `uid` that stays with it as it moves.\n        unselected\n            :class:`plotly.graph_objects.bar.Unselected` instance\n            or dict with compatible properties\n        visible\n            Determines whether or not this trace is visible. If\n            \"legendonly\", the trace is not drawn, but can appear as\n            a legend item (provided that the legend itself is\n            visible).\n        width\n            Sets the bar width (in position axis units).\n        widthsrc\n            Sets the source reference on Chart Studio Cloud for\n            `width`.\n        x\n            Sets the x coordinates.\n        x0\n            Alternate to `x`. Builds a linear space of x\n            coordinates. Use with `dx` where `x0` is the starting\n            coordinate and `dx` the step.\n        xaxis\n            Sets a reference between this trace's x coordinates and\n            a 2D cartesian x axis. If \"x\" (the default value), the\n            x coordinates refer to `layout.xaxis`. If \"x2\", the x\n            coordinates refer to `layout.xaxis2`, and so on.\n        xcalendar\n            Sets the calendar system to use with `x` date data.\n        xhoverformat\n            Sets the hover text formatting rulefor `x`  using d3\n            formatting mini-languages which are very similar to\n            those in Python. For numbers, see:\n            https://github.com/d3/d3-format/tree/v1.4.5#d3-format.\n            And for dates see: https://github.com/d3/d3-time-\n            format/tree/v2.2.3#locale_format. We add two items to\n            d3's date formatter: \"%h\" for half of the year as a\n            decimal number as well as \"%{n}f\" for fractional\n            seconds with n digits. For example, *2016-10-13\n            09:15:23.456* with tickformat \"%H~%M~%S.%2f\" would\n            display *09~15~23.46*By default the values are\n            formatted using `xaxis.hoverformat`.\n        xperiod\n            Only relevant when the axis `type` is \"date\". Sets the\n            period positioning in milliseconds or \"M<n>\" on the x\n            axis. Special values in the form of \"M<n>\" could be\n            used to declare the number of months. In this case `n`\n            must be a positive integer.\n        xperiod0\n            Only relevant when the axis `type` is \"date\". Sets the\n            base for period positioning in milliseconds or date\n            string on the x0 axis. When `x0period` is round number\n            of weeks, the `x0period0` by default would be on a\n            Sunday i.e. 2000-01-02, otherwise it would be at\n            2000-01-01.\n        xperiodalignment\n            Only relevant when the axis `type` is \"date\". Sets the\n            alignment of data points on the x axis.\n        xsrc\n            Sets the source reference on Chart Studio Cloud for\n            `x`.\n        y\n            Sets the y coordinates.\n        y0\n            Alternate to `y`. Builds a linear space of y\n            coordinates. Use with `dy` where `y0` is the starting\n            coordinate and `dy` the step.\n        yaxis\n            Sets a reference between this trace's y coordinates and\n            a 2D cartesian y axis. If \"y\" (the default value), the\n            y coordinates refer to `layout.yaxis`. If \"y2\", the y\n            coordinates refer to `layout.yaxis2`, and so on.\n        ycalendar\n            Sets the calendar system to use with `y` date data.\n        yhoverformat\n            Sets the hover text formatting rulefor `y`  using d3\n            formatting mini-languages which are very similar to\n            those in Python. For numbers, see:\n            https://github.com/d3/d3-format/tree/v1.4.5#d3-format.\n            And for dates see: https://github.com/d3/d3-time-\n            format/tree/v2.2.3#locale_format. We add two items to\n            d3's date formatter: \"%h\" for half of the year as a\n            decimal number as well as \"%{n}f\" for fractional\n            seconds with n digits. For example, *2016-10-13\n            09:15:23.456* with tickformat \"%H~%M~%S.%2f\" would\n            display *09~15~23.46*By default the values are\n            formatted using `yaxis.hoverformat`.\n        yperiod\n            Only relevant when the axis `type` is \"date\". Sets the\n            period positioning in milliseconds or \"M<n>\" on the y\n            axis. Special values in the form of \"M<n>\" could be\n            used to declare the number of months. In this case `n`\n            must be a positive integer.\n        yperiod0\n            Only relevant when the axis `type` is \"date\". Sets the\n            base for period positioning in milliseconds or date\n            string on the y0 axis. When `y0period` is round number\n            of weeks, the `y0period0` by default would be on a\n            Sunday i.e. 2000-01-02, otherwise it would be at\n            2000-01-01.\n        yperiodalignment\n            Only relevant when the axis `type` is \"date\". Sets the\n            alignment of data points on the y axis.\n        ysrc\n            Sets the source reference on Chart Studio Cloud for\n            `y`.\n        \nDid you mean \"base\"?\n\nBad property path:\nhover_name\n^^^^^",
     "output_type": "error",
     "traceback": [
      "\u001b[1;31m---------------------------------------------------------------------------\u001b[0m",
      "\u001b[1;31mValueError\u001b[0m                                Traceback (most recent call last)",
      "\u001b[1;32m<ipython-input-286-815cdb4e2452>\u001b[0m in \u001b[0;36m<module>\u001b[1;34m\u001b[0m\n\u001b[0;32m     24\u001b[0m \u001b[0mfig\u001b[0m \u001b[1;33m=\u001b[0m \u001b[0msubplots\u001b[0m\u001b[1;33m.\u001b[0m\u001b[0mmake_subplots\u001b[0m\u001b[1;33m(\u001b[0m\u001b[0mrows\u001b[0m\u001b[1;33m=\u001b[0m\u001b[1;36m1\u001b[0m\u001b[1;33m,\u001b[0m \u001b[0mcols\u001b[0m\u001b[1;33m=\u001b[0m\u001b[1;36m9\u001b[0m\u001b[1;33m,\u001b[0m \u001b[0msubplot_titles\u001b[0m\u001b[1;33m=\u001b[0m\u001b[1;33m[\u001b[0m\u001b[1;34m'2014'\u001b[0m\u001b[1;33m,\u001b[0m \u001b[1;34m'2015'\u001b[0m\u001b[1;33m,\u001b[0m \u001b[1;34m'2016'\u001b[0m\u001b[1;33m,\u001b[0m\u001b[1;34m'2017'\u001b[0m\u001b[1;33m,\u001b[0m\u001b[1;34m'2018'\u001b[0m\u001b[1;33m,\u001b[0m\u001b[1;34m'2019'\u001b[0m\u001b[1;33m,\u001b[0m\u001b[1;34m'2020'\u001b[0m\u001b[1;33m,\u001b[0m\u001b[1;34m'2021'\u001b[0m\u001b[1;33m,\u001b[0m\u001b[1;34m'2022'\u001b[0m\u001b[1;33m]\u001b[0m\u001b[1;33m)\u001b[0m\u001b[1;33m\u001b[0m\u001b[1;33m\u001b[0m\u001b[0m\n\u001b[0;32m     25\u001b[0m \u001b[1;33m\u001b[0m\u001b[0m\n\u001b[1;32m---> 26\u001b[1;33m data_2014 = go.Bar(x=[2014, 2014, 2014],\n\u001b[0m\u001b[0;32m     27\u001b[0m                     y=[df_2014[df_2014['Artist'].str.contains(artists_2014[0,0])]['Duration'].sum(),\n\u001b[0;32m     28\u001b[0m                        \u001b[0mdf_2014\u001b[0m\u001b[1;33m[\u001b[0m\u001b[0mdf_2014\u001b[0m\u001b[1;33m[\u001b[0m\u001b[1;34m'Artist'\u001b[0m\u001b[1;33m]\u001b[0m\u001b[1;33m.\u001b[0m\u001b[0mstr\u001b[0m\u001b[1;33m.\u001b[0m\u001b[0mcontains\u001b[0m\u001b[1;33m(\u001b[0m\u001b[0martists_2014\u001b[0m\u001b[1;33m[\u001b[0m\u001b[1;36m1\u001b[0m\u001b[1;33m,\u001b[0m\u001b[1;36m0\u001b[0m\u001b[1;33m]\u001b[0m\u001b[1;33m)\u001b[0m\u001b[1;33m]\u001b[0m\u001b[1;33m[\u001b[0m\u001b[1;34m'Duration'\u001b[0m\u001b[1;33m]\u001b[0m\u001b[1;33m.\u001b[0m\u001b[0msum\u001b[0m\u001b[1;33m(\u001b[0m\u001b[1;33m)\u001b[0m\u001b[1;33m,\u001b[0m\u001b[1;33m\u001b[0m\u001b[1;33m\u001b[0m\u001b[0m\n",
      "\u001b[1;32m~\\AppData\\Local\\Packages\\PythonSoftwareFoundation.Python.3.9_qbz5n2kfra8p0\\LocalCache\\local-packages\\Python39\\site-packages\\plotly\\graph_objs\\_bar.py\u001b[0m in \u001b[0;36m__init__\u001b[1;34m(self, arg, alignmentgroup, base, basesrc, cliponaxis, constraintext, customdata, customdatasrc, dx, dy, error_x, error_y, hoverinfo, hoverinfosrc, hoverlabel, hovertemplate, hovertemplatesrc, hovertext, hovertextsrc, ids, idssrc, insidetextanchor, insidetextfont, legendgroup, legendgrouptitle, legendrank, legendwidth, marker, meta, metasrc, name, offset, offsetgroup, offsetsrc, opacity, orientation, outsidetextfont, selected, selectedpoints, showlegend, stream, text, textangle, textfont, textposition, textpositionsrc, textsrc, texttemplate, texttemplatesrc, uid, uirevision, unselected, visible, width, widthsrc, x, x0, xaxis, xcalendar, xhoverformat, xperiod, xperiod0, xperiodalignment, xsrc, y, y0, yaxis, ycalendar, yhoverformat, yperiod, yperiod0, yperiodalignment, ysrc, **kwargs)\u001b[0m\n\u001b[0;32m   3283\u001b[0m         \u001b[1;31m# Process unknown kwargs\u001b[0m\u001b[1;33m\u001b[0m\u001b[1;33m\u001b[0m\u001b[0m\n\u001b[0;32m   3284\u001b[0m         \u001b[1;31m# ----------------------\u001b[0m\u001b[1;33m\u001b[0m\u001b[1;33m\u001b[0m\u001b[0m\n\u001b[1;32m-> 3285\u001b[1;33m         \u001b[0mself\u001b[0m\u001b[1;33m.\u001b[0m\u001b[0m_process_kwargs\u001b[0m\u001b[1;33m(\u001b[0m\u001b[1;33m**\u001b[0m\u001b[0mdict\u001b[0m\u001b[1;33m(\u001b[0m\u001b[0marg\u001b[0m\u001b[1;33m,\u001b[0m \u001b[1;33m**\u001b[0m\u001b[0mkwargs\u001b[0m\u001b[1;33m)\u001b[0m\u001b[1;33m)\u001b[0m\u001b[1;33m\u001b[0m\u001b[1;33m\u001b[0m\u001b[0m\n\u001b[0m\u001b[0;32m   3286\u001b[0m \u001b[1;33m\u001b[0m\u001b[0m\n\u001b[0;32m   3287\u001b[0m         \u001b[1;31m# Reset skip_invalid\u001b[0m\u001b[1;33m\u001b[0m\u001b[1;33m\u001b[0m\u001b[0m\n",
      "\u001b[1;32m~\\AppData\\Local\\Packages\\PythonSoftwareFoundation.Python.3.9_qbz5n2kfra8p0\\LocalCache\\local-packages\\Python39\\site-packages\\plotly\\basedatatypes.py\u001b[0m in \u001b[0;36m_process_kwargs\u001b[1;34m(self, **kwargs)\u001b[0m\n\u001b[0;32m   4367\u001b[0m                 \u001b[0mself\u001b[0m\u001b[1;33m[\u001b[0m\u001b[0mk\u001b[0m\u001b[1;33m]\u001b[0m \u001b[1;33m=\u001b[0m \u001b[0mv\u001b[0m\u001b[1;33m\u001b[0m\u001b[1;33m\u001b[0m\u001b[0m\n\u001b[0;32m   4368\u001b[0m             \u001b[1;32melif\u001b[0m \u001b[1;32mnot\u001b[0m \u001b[0mself\u001b[0m\u001b[1;33m.\u001b[0m\u001b[0m_skip_invalid\u001b[0m\u001b[1;33m:\u001b[0m\u001b[1;33m\u001b[0m\u001b[1;33m\u001b[0m\u001b[0m\n\u001b[1;32m-> 4369\u001b[1;33m                 \u001b[1;32mraise\u001b[0m \u001b[0merr\u001b[0m\u001b[1;33m\u001b[0m\u001b[1;33m\u001b[0m\u001b[0m\n\u001b[0m\u001b[0;32m   4370\u001b[0m         \u001b[1;31m# No need to call _raise_on_invalid_property_error here,\u001b[0m\u001b[1;33m\u001b[0m\u001b[1;33m\u001b[0m\u001b[0m\n\u001b[0;32m   4371\u001b[0m         \u001b[1;31m# because we have it set up so that the singular case of calling\u001b[0m\u001b[1;33m\u001b[0m\u001b[1;33m\u001b[0m\u001b[0m\n",
      "\u001b[1;31mValueError\u001b[0m: Invalid property specified for object of type plotly.graph_objs.Bar: 'hover'\n\nDid you mean \"base\"?\n\n    Valid properties:\n        alignmentgroup\n            Set several traces linked to the same position axis or\n            matching axes to the same alignmentgroup. This controls\n            whether bars compute their positional range dependently\n            or independently.\n        base\n            Sets where the bar base is drawn (in position axis\n            units). In \"stack\" or \"relative\" barmode, traces that\n            set \"base\" will be excluded and drawn in \"overlay\" mode\n            instead.\n        basesrc\n            Sets the source reference on Chart Studio Cloud for\n            `base`.\n        cliponaxis\n            Determines whether the text nodes are clipped about the\n            subplot axes. To show the text nodes above axis lines\n            and tick labels, make sure to set `xaxis.layer` and\n            `yaxis.layer` to *below traces*.\n        constraintext\n            Constrain the size of text inside or outside a bar to\n            be no larger than the bar itself.\n        customdata\n            Assigns extra data each datum. This may be useful when\n            listening to hover, click and selection events. Note\n            that, \"scatter\" traces also appends customdata items in\n            the markers DOM elements\n        customdatasrc\n            Sets the source reference on Chart Studio Cloud for\n            `customdata`.\n        dx\n            Sets the x coordinate step. See `x0` for more info.\n        dy\n            Sets the y coordinate step. See `y0` for more info.\n        error_x\n            :class:`plotly.graph_objects.bar.ErrorX` instance or\n            dict with compatible properties\n        error_y\n            :class:`plotly.graph_objects.bar.ErrorY` instance or\n            dict with compatible properties\n        hoverinfo\n            Determines which trace information appear on hover. If\n            `none` or `skip` are set, no information is displayed\n            upon hovering. But, if `none` is set, click and hover\n            events are still fired.\n        hoverinfosrc\n            Sets the source reference on Chart Studio Cloud for\n            `hoverinfo`.\n        hoverlabel\n            :class:`plotly.graph_objects.bar.Hoverlabel` instance\n            or dict with compatible properties\n        hovertemplate\n            Template string used for rendering the information that\n            appear on hover box. Note that this will override\n            `hoverinfo`. Variables are inserted using %{variable},\n            for example \"y: %{y}\" as well as %{xother}, {%_xother},\n            {%_xother_}, {%xother_}. When showing info for several\n            points, \"xother\" will be added to those with different\n            x positions from the first point. An underscore before\n            or after \"(x|y)other\" will add a space on that side,\n            only when this field is shown. Numbers are formatted\n            using d3-format's syntax %{variable:d3-format}, for\n            example \"Price: %{y:$.2f}\".\n            https://github.com/d3/d3-format/tree/v1.4.5#d3-format\n            for details on the formatting syntax. Dates are\n            formatted using d3-time-format's syntax\n            %{variable|d3-time-format}, for example \"Day:\n            %{2019-01-01|%A}\". https://github.com/d3/d3-time-\n            format/tree/v2.2.3#locale_format for details on the\n            date formatting syntax. The variables available in\n            `hovertemplate` are the ones emitted as event data\n            described at this link\n            https://plotly.com/javascript/plotlyjs-events/#event-\n            data. Additionally, every attributes that can be\n            specified per-point (the ones that are `arrayOk: true`)\n            are available. variables `value` and `label`. Anything\n            contained in tag `<extra>` is displayed in the\n            secondary box, for example\n            \"<extra>{fullData.name}</extra>\". To hide the secondary\n            box completely, use an empty tag `<extra></extra>`.\n        hovertemplatesrc\n            Sets the source reference on Chart Studio Cloud for\n            `hovertemplate`.\n        hovertext\n            Sets hover text elements associated with each (x,y)\n            pair. If a single string, the same string appears over\n            all the data points. If an array of string, the items\n            are mapped in order to the this trace's (x,y)\n            coordinates. To be seen, trace `hoverinfo` must contain\n            a \"text\" flag.\n        hovertextsrc\n            Sets the source reference on Chart Studio Cloud for\n            `hovertext`.\n        ids\n            Assigns id labels to each datum. These ids for object\n            constancy of data points during animation. Should be an\n            array of strings, not numbers or any other type.\n        idssrc\n            Sets the source reference on Chart Studio Cloud for\n            `ids`.\n        insidetextanchor\n            Determines if texts are kept at center or start/end\n            points in `textposition` \"inside\" mode.\n        insidetextfont\n            Sets the font used for `text` lying inside the bar.\n        legendgroup\n            Sets the legend group for this trace. Traces part of\n            the same legend group hide/show at the same time when\n            toggling legend items.\n        legendgrouptitle\n            :class:`plotly.graph_objects.bar.Legendgrouptitle`\n            instance or dict with compatible properties\n        legendrank\n            Sets the legend rank for this trace. Items and groups\n            with smaller ranks are presented on top/left side while\n            with `*reversed* `legend.traceorder` they are on\n            bottom/right side. The default legendrank is 1000, so\n            that you can use ranks less than 1000 to place certain\n            items before all unranked items, and ranks greater than\n            1000 to go after all unranked items.\n        legendwidth\n            Sets the width (in px or fraction) of the legend for\n            this trace.\n        marker\n            :class:`plotly.graph_objects.bar.Marker` instance or\n            dict with compatible properties\n        meta\n            Assigns extra meta information associated with this\n            trace that can be used in various text attributes.\n            Attributes such as trace `name`, graph, axis and\n            colorbar `title.text`, annotation `text`\n            `rangeselector`, `updatemenues` and `sliders` `label`\n            text all support `meta`. To access the trace `meta`\n            values in an attribute in the same trace, simply use\n            `%{meta[i]}` where `i` is the index or key of the\n            `meta` item in question. To access trace `meta` in\n            layout attributes, use `%{data[n[.meta[i]}` where `i`\n            is the index or key of the `meta` and `n` is the trace\n            index.\n        metasrc\n            Sets the source reference on Chart Studio Cloud for\n            `meta`.\n        name\n            Sets the trace name. The trace name appear as the\n            legend item and on hover.\n        offset\n            Shifts the position where the bar is drawn (in position\n            axis units). In \"group\" barmode, traces that set\n            \"offset\" will be excluded and drawn in \"overlay\" mode\n            instead.\n        offsetgroup\n            Set several traces linked to the same position axis or\n            matching axes to the same offsetgroup where bars of the\n            same position coordinate will line up.\n        offsetsrc\n            Sets the source reference on Chart Studio Cloud for\n            `offset`.\n        opacity\n            Sets the opacity of the trace.\n        orientation\n            Sets the orientation of the bars. With \"v\" (\"h\"), the\n            value of the each bar spans along the vertical\n            (horizontal).\n        outsidetextfont\n            Sets the font used for `text` lying outside the bar.\n        selected\n            :class:`plotly.graph_objects.bar.Selected` instance or\n            dict with compatible properties\n        selectedpoints\n            Array containing integer indices of selected points.\n            Has an effect only for traces that support selections.\n            Note that an empty array means an empty selection where\n            the `unselected` are turned on for all points, whereas,\n            any other non-array values means no selection all where\n            the `selected` and `unselected` styles have no effect.\n        showlegend\n            Determines whether or not an item corresponding to this\n            trace is shown in the legend.\n        stream\n            :class:`plotly.graph_objects.bar.Stream` instance or\n            dict with compatible properties\n        text\n            Sets text elements associated with each (x,y) pair. If\n            a single string, the same string appears over all the\n            data points. If an array of string, the items are\n            mapped in order to the this trace's (x,y) coordinates.\n            If trace `hoverinfo` contains a \"text\" flag and\n            \"hovertext\" is not set, these elements will be seen in\n            the hover labels.\n        textangle\n            Sets the angle of the tick labels with respect to the\n            bar. For example, a `tickangle` of -90 draws the tick\n            labels vertically. With \"auto\" the texts may\n            automatically be rotated to fit with the maximum size\n            in bars.\n        textfont\n            Sets the font used for `text`.\n        textposition\n            Specifies the location of the `text`. \"inside\"\n            positions `text` inside, next to the bar end (rotated\n            and scaled if needed). \"outside\" positions `text`\n            outside, next to the bar end (scaled if needed), unless\n            there is another bar stacked on this one, then the text\n            gets pushed inside. \"auto\" tries to position `text`\n            inside the bar, but if the bar is too small and no bar\n            is stacked on this one the text is moved outside. If\n            \"none\", no text appears.\n        textpositionsrc\n            Sets the source reference on Chart Studio Cloud for\n            `textposition`.\n        textsrc\n            Sets the source reference on Chart Studio Cloud for\n            `text`.\n        texttemplate\n            Template string used for rendering the information text\n            that appear on points. Note that this will override\n            `textinfo`. Variables are inserted using %{variable},\n            for example \"y: %{y}\". Numbers are formatted using\n            d3-format's syntax %{variable:d3-format}, for example\n            \"Price: %{y:$.2f}\".\n            https://github.com/d3/d3-format/tree/v1.4.5#d3-format\n            for details on the formatting syntax. Dates are\n            formatted using d3-time-format's syntax\n            %{variable|d3-time-format}, for example \"Day:\n            %{2019-01-01|%A}\". https://github.com/d3/d3-time-\n            format/tree/v2.2.3#locale_format for details on the\n            date formatting syntax. Every attributes that can be\n            specified per-point (the ones that are `arrayOk: true`)\n            are available. variables `value` and `label`.\n        texttemplatesrc\n            Sets the source reference on Chart Studio Cloud for\n            `texttemplate`.\n        uid\n            Assign an id to this trace, Use this to provide object\n            constancy between traces during animations and\n            transitions.\n        uirevision\n            Controls persistence of some user-driven changes to the\n            trace: `constraintrange` in `parcoords` traces, as well\n            as some `editable: true` modifications such as `name`\n            and `colorbar.title`. Defaults to `layout.uirevision`.\n            Note that other user-driven trace attribute changes are\n            controlled by `layout` attributes: `trace.visible` is\n            controlled by `layout.legend.uirevision`,\n            `selectedpoints` is controlled by\n            `layout.selectionrevision`, and `colorbar.(x|y)`\n            (accessible with `config: {editable: true}`) is\n            controlled by `layout.editrevision`. Trace changes are\n            tracked by `uid`, which only falls back on trace index\n            if no `uid` is provided. So if your app can add/remove\n            traces before the end of the `data` array, such that\n            the same trace has a different index, you can still\n            preserve user-driven changes if you give each trace a\n            `uid` that stays with it as it moves.\n        unselected\n            :class:`plotly.graph_objects.bar.Unselected` instance\n            or dict with compatible properties\n        visible\n            Determines whether or not this trace is visible. If\n            \"legendonly\", the trace is not drawn, but can appear as\n            a legend item (provided that the legend itself is\n            visible).\n        width\n            Sets the bar width (in position axis units).\n        widthsrc\n            Sets the source reference on Chart Studio Cloud for\n            `width`.\n        x\n            Sets the x coordinates.\n        x0\n            Alternate to `x`. Builds a linear space of x\n            coordinates. Use with `dx` where `x0` is the starting\n            coordinate and `dx` the step.\n        xaxis\n            Sets a reference between this trace's x coordinates and\n            a 2D cartesian x axis. If \"x\" (the default value), the\n            x coordinates refer to `layout.xaxis`. If \"x2\", the x\n            coordinates refer to `layout.xaxis2`, and so on.\n        xcalendar\n            Sets the calendar system to use with `x` date data.\n        xhoverformat\n            Sets the hover text formatting rulefor `x`  using d3\n            formatting mini-languages which are very similar to\n            those in Python. For numbers, see:\n            https://github.com/d3/d3-format/tree/v1.4.5#d3-format.\n            And for dates see: https://github.com/d3/d3-time-\n            format/tree/v2.2.3#locale_format. We add two items to\n            d3's date formatter: \"%h\" for half of the year as a\n            decimal number as well as \"%{n}f\" for fractional\n            seconds with n digits. For example, *2016-10-13\n            09:15:23.456* with tickformat \"%H~%M~%S.%2f\" would\n            display *09~15~23.46*By default the values are\n            formatted using `xaxis.hoverformat`.\n        xperiod\n            Only relevant when the axis `type` is \"date\". Sets the\n            period positioning in milliseconds or \"M<n>\" on the x\n            axis. Special values in the form of \"M<n>\" could be\n            used to declare the number of months. In this case `n`\n            must be a positive integer.\n        xperiod0\n            Only relevant when the axis `type` is \"date\". Sets the\n            base for period positioning in milliseconds or date\n            string on the x0 axis. When `x0period` is round number\n            of weeks, the `x0period0` by default would be on a\n            Sunday i.e. 2000-01-02, otherwise it would be at\n            2000-01-01.\n        xperiodalignment\n            Only relevant when the axis `type` is \"date\". Sets the\n            alignment of data points on the x axis.\n        xsrc\n            Sets the source reference on Chart Studio Cloud for\n            `x`.\n        y\n            Sets the y coordinates.\n        y0\n            Alternate to `y`. Builds a linear space of y\n            coordinates. Use with `dy` where `y0` is the starting\n            coordinate and `dy` the step.\n        yaxis\n            Sets a reference between this trace's y coordinates and\n            a 2D cartesian y axis. If \"y\" (the default value), the\n            y coordinates refer to `layout.yaxis`. If \"y2\", the y\n            coordinates refer to `layout.yaxis2`, and so on.\n        ycalendar\n            Sets the calendar system to use with `y` date data.\n        yhoverformat\n            Sets the hover text formatting rulefor `y`  using d3\n            formatting mini-languages which are very similar to\n            those in Python. For numbers, see:\n            https://github.com/d3/d3-format/tree/v1.4.5#d3-format.\n            And for dates see: https://github.com/d3/d3-time-\n            format/tree/v2.2.3#locale_format. We add two items to\n            d3's date formatter: \"%h\" for half of the year as a\n            decimal number as well as \"%{n}f\" for fractional\n            seconds with n digits. For example, *2016-10-13\n            09:15:23.456* with tickformat \"%H~%M~%S.%2f\" would\n            display *09~15~23.46*By default the values are\n            formatted using `yaxis.hoverformat`.\n        yperiod\n            Only relevant when the axis `type` is \"date\". Sets the\n            period positioning in milliseconds or \"M<n>\" on the y\n            axis. Special values in the form of \"M<n>\" could be\n            used to declare the number of months. In this case `n`\n            must be a positive integer.\n        yperiod0\n            Only relevant when the axis `type` is \"date\". Sets the\n            base for period positioning in milliseconds or date\n            string on the y0 axis. When `y0period` is round number\n            of weeks, the `y0period0` by default would be on a\n            Sunday i.e. 2000-01-02, otherwise it would be at\n            2000-01-01.\n        yperiodalignment\n            Only relevant when the axis `type` is \"date\". Sets the\n            alignment of data points on the y axis.\n        ysrc\n            Sets the source reference on Chart Studio Cloud for\n            `y`.\n        \nDid you mean \"base\"?\n\nBad property path:\nhover_name\n^^^^^"
     ]
    }
   ],
   "source": [
    "TOP = 10\n",
    "\n",
    "df_2014 = df_tracks[(df_tracks['Date'] >= '2014-01-01') & (df_tracks['Date'] <= '2014-12-31')]\n",
    "df_2015 = df_tracks[(df_tracks['Date'] >= '2015-01-01') & (df_tracks['Date'] <= '2015-12-31')]\n",
    "df_2016 = df_tracks[(df_tracks['Date'] >= '2016-01-01') & (df_tracks['Date'] <= '2016-12-31')]\n",
    "df_2017 = df_tracks[(df_tracks['Date'] >= '2017-01-01') & (df_tracks['Date'] <= '2017-12-31')]\n",
    "df_2018 = df_tracks[(df_tracks['Date'] >= '2018-01-01') & (df_tracks['Date'] <= '2018-12-31')]\n",
    "df_2019 = df_tracks[(df_tracks['Date'] >= '2019-01-01') & (df_tracks['Date'] <= '2019-12-31')]\n",
    "df_2020 = df_tracks[(df_tracks['Date'] >= '2020-01-01') & (df_tracks['Date'] <= '2020-12-31')]\n",
    "df_2021 = df_tracks[(df_tracks['Date'] >= '2021-01-01') & (df_tracks['Date'] <= '2021-12-31')]\n",
    "df_2022 = df_tracks[(df_tracks['Date'] >= '2022-01-01') & (df_tracks['Date'] <= '2022-12-31')]\n",
    "\n",
    "artists_2014 = np.asarray(Counter(df_2014['Artist']).most_common(TOP))\n",
    "artists_2015 = np.asarray(Counter(df_2015['Artist']).most_common(TOP))\n",
    "artists_2016 = np.asarray(Counter(df_2016['Artist']).most_common(TOP))\n",
    "artists_2017 = np.asarray(Counter(df_2017['Artist']).most_common(TOP))\n",
    "artists_2018 = np.asarray(Counter(df_2018['Artist']).most_common(TOP))\n",
    "artists_2019 = np.asarray(Counter(df_2019['Artist']).most_common(TOP))\n",
    "artists_2020 = np.asarray(Counter(df_2020['Artist']).most_common(TOP))\n",
    "artists_2021 = np.asarray(Counter(df_2021['Artist']).most_common(TOP))\n",
    "artists_2022 = np.asarray(Counter(df_2022['Artist']).most_common(TOP))\n",
    "\n",
    "\n",
    "fig = subplots.make_subplots(rows=1, cols=9, subplot_titles=['2014', '2015', '2016','2017','2018','2019','2020','2021','2022'])\n",
    "\n",
    "data_2014 = go.Bar(x=[2014, 2014, 2014],\n",
    "                    y=[df_2014[df_2014['Artist'].str.contains(artists_2014[0,0])]['Duration'].sum(),\n",
    "                       df_2014[df_2014['Artist'].str.contains(artists_2014[1,0])]['Duration'].sum(), \n",
    "                       df_2014[df_2014['Artist'].str.contains(artists_2014[2,0])]['Duration'].sum()],\n",
    "                    name='2014',\n",
    "                    hover_name=artists_2014[:,0])\n",
    "fig.add_trace(data_2014,1,1)\n",
    "\n",
    "data_2015 = go.Bar(x=[2015, 2015, 2015],\n",
    "                    y=[df_2015[df_2015['Artist'].str.contains(artists_2015[0,0])]['Duration'].sum(),\n",
    "                       df_2015[df_2015['Artist'].str.contains(artists_2015[1,0])]['Duration'].sum(), \n",
    "                       df_2015[df_2015['Artist'].str.contains(artists_2015[2,0])]['Duration'].sum()],\n",
    "                    name='2015')\n",
    "fig.add_trace(data_2015,1,2)\n",
    "\n",
    "data_2016 = go.Bar(x=[2016, 2016, 2016],\n",
    "                    y=[df_2016[df_2016['Artist'].str.contains(artists_2016[0,0])]['Duration'].sum(),\n",
    "                       df_2016[df_2016['Artist'].str.contains(artists_2016[1,0])]['Duration'].sum(), \n",
    "                       df_2016[df_2016['Artist'].str.contains(artists_2016[2,0])]['Duration'].sum()],\n",
    "                    name='2016')\n",
    "fig.add_trace(data_2016,1,3)\n",
    "\n",
    "data_2017 = go.Bar(x=[2017, 2017, 2017],\n",
    "                    y=[df_2017[df_2017['Artist'].str.contains(artists_2017[0,0])]['Duration'].sum(),\n",
    "                       df_2017[df_2017['Artist'].str.contains(artists_2017[1,0])]['Duration'].sum(), \n",
    "                       df_2017[df_2017['Artist'].str.contains(artists_2017[2,0])]['Duration'].sum()],\n",
    "                    name='2017')\n",
    "fig.add_trace(data_2017,1,4)\n",
    "\n",
    "data_2018 = go.Bar(x=[2018, 2018, 2018],\n",
    "                    y=[df_2018[df_2018['Artist'].str.contains(artists_2018[0,0])]['Duration'].sum(),\n",
    "                       df_2018[df_2018['Artist'].str.contains(artists_2018[1,0])]['Duration'].sum(), \n",
    "                       df_2018[df_2018['Artist'].str.contains(artists_2018[2,0])]['Duration'].sum()],\n",
    "                    name='2018')\n",
    "fig.add_trace(data_2018,1,5)\n",
    "\n",
    "data_2019 = go.Bar(x=[2019, 2019, 2019],\n",
    "                    y=[df_2019[df_2019['Artist'].str.contains(artists_2019[0,0])]['Duration'].sum(),\n",
    "                       df_2019[df_2019['Artist'].str.contains(artists_2019[1,0])]['Duration'].sum(), \n",
    "                       df_2019[df_2019['Artist'].str.contains(artists_2019[2,0])]['Duration'].sum()],\n",
    "                    name='2019')\n",
    "fig.add_trace(data_2019,1,6)\n",
    "\n",
    "data_2020 = go.Bar(x=[2020, 2020, 2020],\n",
    "                    y=[df_2020[df_2020['Artist'].str.contains(artists_2020[0,0])]['Duration'].sum(),\n",
    "                       df_2020[df_2020['Artist'].str.contains(artists_2020[1,0])]['Duration'].sum(), \n",
    "                       df_2020[df_2020['Artist'].str.contains(artists_2020[2,0])]['Duration'].sum()],\n",
    "                    name='2020')\n",
    "fig.add_trace(data_2020,1,7)\n",
    "\n",
    "data_2021 = go.Bar(x=[2021, 2021, 2021],\n",
    "                    y=[df_2021[df_2021['Artist'].str.contains(artists_2021[0,0])]['Duration'].sum(),\n",
    "                       df_2021[df_2021['Artist'].str.contains(artists_2021[1,0])]['Duration'].sum(), \n",
    "                       df_2021[df_2021['Artist'].str.contains(artists_2021[2,0])]['Duration'].sum()],\n",
    "                    name='2021')\n",
    "fig.add_trace(data_2021,1,8)\n",
    "\n",
    "data_2022 = go.Bar(x=[2022, 2022, 2022],\n",
    "                    y=[df_2022[df_2022['Artist'].str.contains(artists_2022[0,0])]['Duration'].sum(),\n",
    "                       df_2022[df_2022['Artist'].str.contains(artists_2022[1,0])]['Duration'].sum(), \n",
    "                       df_2022[df_2022['Artist'].str.contains(artists_2022[2,0])]['Duration'].sum()],\n",
    "                    name='2022')\n",
    "fig.add_trace(data_2022,1,9)\n",
    "\n",
    "layout = go.Layout(title='Comparison between top ' + str(TOP) + ' artists',\n",
    "                   xaxis=dict(\n",
    "                       title='Years'\n",
    "                    ),\n",
    "                   yaxis=dict(title='Duration'),\n",
    "                   barmode='group')\n",
    "\n",
    "fig['layout'].update(layout)\n",
    "\n",
    "pyo.plot(fig, filename='comparison_between_top'+str(TOP)+'.html')"
   ]
  }
 ],
 "metadata": {
  "kernelspec": {
   "display_name": "Python 3.9.13 64-bit (microsoft store)",
   "language": "python",
   "name": "python3"
  },
  "language_info": {
   "codemirror_mode": {
    "name": "ipython",
    "version": 3
   },
   "file_extension": ".py",
   "mimetype": "text/x-python",
   "name": "python",
   "nbconvert_exporter": "python",
   "pygments_lexer": "ipython3",
   "version": "3.9.13"
  },
  "orig_nbformat": 4,
  "vscode": {
   "interpreter": {
    "hash": "d86b8aa2fa1cd854ea2b7cf79d5d7c9edb29ab63787a9639319c72fd28a21d9a"
   }
  }
 },
 "nbformat": 4,
 "nbformat_minor": 2
}
