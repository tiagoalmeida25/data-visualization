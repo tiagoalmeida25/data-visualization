{
 "cells": [
  {
   "cell_type": "code",
   "execution_count": 62,
   "metadata": {},
   "outputs": [
    {
     "name": "stdout",
     "output_type": "stream",
     "text": [
      "[]\n",
      "[StandingsList(season=2023, round_no=1, driver_standings=[], constructor_standings=[ConstructorStanding(position=1, position_text=1, points=0.0, wins=0, constructor=Constructor(constructor_id=alfa, url=http://en.wikipedia.org/wiki/Alfa_Romeo_in_Formula_One, name=Alfa Romeo, nationality=Swiss)), ConstructorStanding(position=2, position_text=2, points=0.0, wins=0, constructor=Constructor(constructor_id=alphatauri, url=http://en.wikipedia.org/wiki/Scuderia_AlphaTauri, name=AlphaTauri, nationality=Italian)), ConstructorStanding(position=3, position_text=3, points=0.0, wins=0, constructor=Constructor(constructor_id=alpine, url=http://en.wikipedia.org/wiki/Alpine_F1_Team, name=Alpine F1 Team, nationality=French)), ConstructorStanding(position=4, position_text=4, points=0.0, wins=0, constructor=Constructor(constructor_id=aston_martin, url=http://en.wikipedia.org/wiki/Aston_Martin_in_Formula_One, name=Aston Martin, nationality=British)), ConstructorStanding(position=5, position_text=5, points=0.0, wins=0, constructor=Constructor(constructor_id=ferrari, url=http://en.wikipedia.org/wiki/Scuderia_Ferrari, name=Ferrari, nationality=Italian)), ConstructorStanding(position=6, position_text=6, points=0.0, wins=0, constructor=Constructor(constructor_id=haas, url=http://en.wikipedia.org/wiki/Haas_F1_Team, name=Haas F1 Team, nationality=American)), ConstructorStanding(position=7, position_text=7, points=0.0, wins=0, constructor=Constructor(constructor_id=mclaren, url=http://en.wikipedia.org/wiki/McLaren, name=McLaren, nationality=British)), ConstructorStanding(position=8, position_text=8, points=0.0, wins=0, constructor=Constructor(constructor_id=mercedes, url=http://en.wikipedia.org/wiki/Mercedes-Benz_in_Formula_One, name=Mercedes, nationality=German)), ConstructorStanding(position=9, position_text=9, points=0.0, wins=0, constructor=Constructor(constructor_id=red_bull, url=http://en.wikipedia.org/wiki/Red_Bull_Racing, name=Red Bull, nationality=Austrian)), ConstructorStanding(position=10, position_text=10, points=0.0, wins=0, constructor=Constructor(constructor_id=williams, url=http://en.wikipedia.org/wiki/Williams_Grand_Prix_Engineering, name=Williams, nationality=British))])]\n",
      "\n",
      "alfa\n",
      "alphatauri\n",
      "alpine\n",
      "aston_martin\n",
      "ferrari\n",
      "haas\n",
      "mclaren\n",
      "mercedes\n",
      "red_bull\n",
      "williams\n"
     ]
    }
   ],
   "source": [
    "import fastf1\n",
    "import ergast_py\n",
    "import requests\n",
    "\n",
    "e = ergast_py.Ergast()\n",
    "\n",
    "race_results = e.season(2023).get_results()\n",
    "\n",
    "print(race_results)\n",
    "\n",
    "lewis_ham = e.driver(\"hamilton\").get_driver()\n",
    "\n",
    "constructor_standings = e.season(2023).get_constructor_standings()\n",
    "\n",
    "print(constructor_standings)\n",
    "print()\n",
    "\n",
    "for value in constructor_standings[0].constructor_standings:\n",
    "    print(value.constructor.constructor_id)"
   ]
  },
  {
   "cell_type": "code",
   "execution_count": 60,
   "metadata": {},
   "outputs": [
    {
     "name": "stdout",
     "output_type": "stream",
     "text": [
      "Bahrain Grand Prix\n",
      "1 - LEC\n",
      "2 - SAI\n",
      "3 - HAM\n",
      "4 - RUS\n",
      "5 - MAG\n",
      "6 - BOT\n",
      "7 - OCO\n",
      "8 - TSU\n",
      "9 - ALO\n",
      "10 - ZHO\n",
      "11 - MSC\n",
      "12 - STR\n",
      "13 - ALB\n",
      "14 - RIC\n",
      "15 - NOR\n",
      "16 - LAT\n",
      "17 - HUL\n",
      "18 - PER\n",
      "19 - VER\n",
      "20 - GAS\n"
     ]
    }
   ],
   "source": [
    "\n",
    "###\n",
    "# http://ergast.com/api/f1/{season}/{round}/driverStandings\n",
    "###\n",
    "\n",
    "path = 'https://ergast.com/api/f1/'\n",
    "\n",
    "def ergast_retrieve(api_endpoint: str):\n",
    "    url = f'{path}{api_endpoint}.json'\n",
    "    response = requests.get(url).json()\n",
    "    \n",
    "    return response['MRData']\n",
    "\n",
    "rounds = 1\n",
    "\n",
    "gp = ergast_retrieve(f'current/{rounds}')\n",
    "\n",
    "round_1 = gp['RaceTable']['Races'][0]['raceName']\n",
    "\n",
    "print(round_1)\n",
    "\n",
    "race = ergast_retrieve(f'current/{rounds}/driverStandings')\n",
    "driver_standings = race['StandingsTable']['StandingsLists'][0]['DriverStandings']\n",
    "\n",
    "for driver in driver_standings:\n",
    "    print(driver['position'],'-',driver['Driver']['code'])"
   ]
  },
  {
   "cell_type": "code",
   "execution_count": 59,
   "metadata": {},
   "outputs": [
    {
     "name": "stdout",
     "output_type": "stream",
     "text": [
      "Bahrain Grand Prix\n"
     ]
    }
   ],
   "source": [
    "race = ergast_retrieve(f'current/{rounds}')\n",
    "\n",
    "print()"
   ]
  }
 ],
 "metadata": {
  "kernelspec": {
   "display_name": "Python 3",
   "language": "python",
   "name": "python3"
  },
  "language_info": {
   "codemirror_mode": {
    "name": "ipython",
    "version": 3
   },
   "file_extension": ".py",
   "mimetype": "text/x-python",
   "name": "python",
   "nbconvert_exporter": "python",
   "pygments_lexer": "ipython3",
   "version": "3.10.7"
  },
  "orig_nbformat": 4,
  "vscode": {
   "interpreter": {
    "hash": "b1362bae308d2cbabd8a5ab8f667556672df736664851f8b959a6a34b73173dc"
   }
  }
 },
 "nbformat": 4,
 "nbformat_minor": 2
}
